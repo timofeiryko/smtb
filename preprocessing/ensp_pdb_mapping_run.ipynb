{
 "cells": [
  {
   "cell_type": "markdown",
   "metadata": {},
   "source": [
    "# Imports and set up"
   ]
  },
  {
   "cell_type": "markdown",
   "metadata": {},
   "source": [
    "WARNING: THIS NOTEBOOK IS QUITE ARM CONSUMING, SINCE IT LOADS ALL THE DATA INTO PANDAS!"
   ]
  },
  {
   "cell_type": "code",
   "execution_count": 1,
   "metadata": {},
   "outputs": [],
   "source": [
    "import pandas as pd\n",
    "import numpy as np\n",
    "\n",
    "import os\n",
    "import glob\n",
    "\n",
    "import logging\n",
    "from datetime import datetime, date\n",
    "\n",
    "from tqdm import tqdm"
   ]
  },
  {
   "cell_type": "code",
   "execution_count": 2,
   "metadata": {},
   "outputs": [],
   "source": [
    "WORKING_DIR = '/home/projects/genomics'\n",
    "DATA_DIR = '/home/projects/genomics/active_sites/correct'\n",
    "CONCATED_DF_PATH = '/home/projects/genomics/active_sites_mapped/active_sites_concated.csv'\n",
    "FILES_DF_PATH = '/home/projects/genomics/active_sites_mapped/active_sites_id_index.csv'\n",
    "LOGGING_PATH = f'/home/projects/genomics/active_sites_mapped/mapping-{date.today()}.log'"
   ]
  },
  {
   "cell_type": "code",
   "execution_count": 3,
   "metadata": {},
   "outputs": [],
   "source": [
    "logging.basicConfig(filename=LOGGING_PATH, level=logging.DEBUG)"
   ]
  },
  {
   "cell_type": "code",
   "execution_count": 4,
   "metadata": {},
   "outputs": [
    {
     "name": "stderr",
     "output_type": "stream",
     "text": [
      "STARTED AT: 2022-08-16 18:43:06.351306\n"
     ]
    }
   ],
   "source": [
    "started = datetime.now()\n",
    "logging.getLogger().addHandler(logging.StreamHandler())\n",
    "\n",
    "logging.info(F'STARTED AT: {started}')"
   ]
  },
  {
   "cell_type": "markdown",
   "metadata": {},
   "source": [
    "# Get the data\n",
    "\n",
    "WARNING: I will get and concat all the data files later, after filtering `files_df`"
   ]
  },
  {
   "cell_type": "markdown",
   "metadata": {},
   "source": [
    "### Dataframe of files"
   ]
  },
  {
   "cell_type": "code",
   "execution_count": 5,
   "metadata": {},
   "outputs": [
    {
     "name": "stderr",
     "output_type": "stream",
     "text": [
      "Imported filenames to padnas\n"
     ]
    }
   ],
   "source": [
    "filenames = [os.path.basename(x) for x in glob.glob(DATA_DIR + '/*')]\n",
    "files_df = pd.DataFrame(filenames, columns=['file_name'])\n",
    "logging.info('Imported filenames to pandas')\n"
   ]
  },
  {
   "cell_type": "markdown",
   "metadata": {},
   "source": [
    "# Extract info from filenames"
   ]
  },
  {
   "cell_type": "code",
   "execution_count": 6,
   "metadata": {},
   "outputs": [],
   "source": [
    "files_df['ensp_id'] = files_df.apply(lambda row: row['file_name'].split('.')[0], axis='columns')"
   ]
  },
  {
   "cell_type": "code",
   "execution_count": 7,
   "metadata": {},
   "outputs": [],
   "source": [
    "def get_ensp_version(row):\n",
    "    try:\n",
    "        right_part = row['file_name'].split('.')[1]\n",
    "    except IndexError as e:\n",
    "        logging.warning(f'{row[\"file_name\"]} has wrong filename format, skipping...')\n",
    "        logging.error(e)\n",
    "        logging.warning(f'{row[\"file_name\"]}: no ensp_version')\n",
    "        return np.nan\n",
    "    return right_part.split('_')[0]"
   ]
  },
  {
   "cell_type": "code",
   "execution_count": 8,
   "metadata": {},
   "outputs": [],
   "source": [
    "files_df['ensp_version'] = files_df.apply(get_ensp_version, axis='columns')"
   ]
  },
  {
   "cell_type": "code",
   "execution_count": 9,
   "metadata": {},
   "outputs": [],
   "source": [
    "def get_pdb_id(row):\n",
    "    try:\n",
    "        right_part = row['file_name'].split('.')[1]\n",
    "    except IndexError as e:\n",
    "        logging.warning(f'{row[\"file_name\"]} has wrong filename format, skipping')\n",
    "        logging.error(e)\n",
    "        logging.warning(f'{row[\"file_name\"]}: no pdb_id')\n",
    "        return np.nan\n",
    "    return right_part.split('_')[1]"
   ]
  },
  {
   "cell_type": "code",
   "execution_count": 10,
   "metadata": {},
   "outputs": [],
   "source": [
    "files_df['pdb_id'] = files_df.apply(get_pdb_id, axis='columns')"
   ]
  },
  {
   "cell_type": "code",
   "execution_count": 11,
   "metadata": {},
   "outputs": [],
   "source": [
    "def get_chain(row):\n",
    "    try:\n",
    "        right_part = row['file_name'].split('.')[1]\n",
    "    except IndexError as e:\n",
    "        logging.warning(f'{row[\"file_name\"]} has wrong filename format, skipping')\n",
    "        logging.error(e)\n",
    "        logging.warning(f'{row[\"file_name\"]}: no chain')\n",
    "        return np.nan\n",
    "    return right_part.split('_')[2]"
   ]
  },
  {
   "cell_type": "code",
   "execution_count": 12,
   "metadata": {},
   "outputs": [],
   "source": [
    "files_df['chain'] = files_df.apply(get_chain, axis='columns')"
   ]
  },
  {
   "cell_type": "code",
   "execution_count": 13,
   "metadata": {},
   "outputs": [],
   "source": [
    "def get_ligand(row):\n",
    "    try:\n",
    "        right_part = row['file_name'].split('.')[1]\n",
    "    except IndexError as e:\n",
    "        logging.warning(f'{row[\"file_name\"]} has wrong filename format, skipping')\n",
    "        logging.error(e)\n",
    "        logging.warning(f'{row[\"file_name\"]}: no ligand')\n",
    "        return np.nan\n",
    "    return right_part.split('_')[3]"
   ]
  },
  {
   "cell_type": "code",
   "execution_count": 14,
   "metadata": {},
   "outputs": [],
   "source": [
    "files_df['ligand'] = files_df.apply(get_ligand, axis='columns')"
   ]
  },
  {
   "cell_type": "code",
   "execution_count": 15,
   "metadata": {},
   "outputs": [
    {
     "name": "stderr",
     "output_type": "stream",
     "text": [
      "Extracted ensp_id, ensp_version, pdb_id, chain, ligand from filenames\n"
     ]
    }
   ],
   "source": [
    "logging.info('Extracted ensp_id, ensp_version, pdb_id, chain, ligand from filenames')"
   ]
  },
  {
   "cell_type": "markdown",
   "metadata": {},
   "source": [
    "# Drop duplicated structures"
   ]
  },
  {
   "cell_type": "markdown",
   "metadata": {},
   "source": [
    "For now we are not taking chain int oaccount:"
   ]
  },
  {
   "cell_type": "code",
   "execution_count": 16,
   "metadata": {},
   "outputs": [],
   "source": [
    "selected_structures_df = files_df.drop_duplicates(subset=['ensp_id', 'chain', 'ligand'])"
   ]
  },
  {
   "cell_type": "code",
   "execution_count": 17,
   "metadata": {},
   "outputs": [
    {
     "name": "stderr",
     "output_type": "stream",
     "text": [
      "Saved selected_structures_df to /home/projects/genomics/active_sites_mapped/active_sites_id_index.csv\n"
     ]
    }
   ],
   "source": [
    "selected_structures_df.to_csv(FILES_DF_PATH)\n",
    "logging.info(f'Saved selected_structures_df to {FILES_DF_PATH}')"
   ]
  },
  {
   "cell_type": "markdown",
   "metadata": {},
   "source": [
    "# Concat files with AA positions"
   ]
  },
  {
   "cell_type": "code",
   "execution_count": 18,
   "metadata": {},
   "outputs": [],
   "source": [
    "def read_tsv_dir(dir_name):\n",
    "    \"\"\"\n",
    "    Reads all tsv files in a directory and returns a list of pandas dataframes (filenames are keys),\n",
    "    perfoming some filtering and adding `file_name` column.\n",
    "    \"\"\"\n",
    "    # TODO extensions etc\n",
    "\n",
    "    df_list = []\n",
    "    filenames = glob.glob(dir_name + '/*')\n",
    "    columns = ['position_ensp', 'aa_ensp', 'position_pdb', 'aa_pdb']\n",
    "\n",
    "    for path, _ in zip(filenames, tqdm(range(len(filenames)))):\n",
    "        file = os.path.basename(path)\n",
    "        df = pd.read_csv(path, sep='\\t', names=columns)\n",
    "        df['file_name'] = file\n",
    "        df_list.append(df)\n",
    "    \n",
    "    return df_list"
   ]
  },
  {
   "cell_type": "markdown",
   "metadata": {},
   "source": [
    "###  Import data files to pandas"
   ]
  },
  {
   "cell_type": "code",
   "execution_count": 19,
   "metadata": {},
   "outputs": [
    {
     "name": "stderr",
     "output_type": "stream",
     "text": [
      "100%|█████████▉| 459115/459116 [1:18:17<00:00, 97.74it/s] \n",
      "Loaded all tsv files into list of pandas dataframes\n"
     ]
    }
   ],
   "source": [
    "df_list = read_tsv_dir(DATA_DIR)\n",
    "logging.info('Loaded all tsv files into list of pandas dataframes')"
   ]
  },
  {
   "cell_type": "code",
   "execution_count": 20,
   "metadata": {},
   "outputs": [
    {
     "name": "stderr",
     "output_type": "stream",
     "text": [
      "Concated all pandas dataframes\n"
     ]
    }
   ],
   "source": [
    "concated_df = pd.concat(df_list)\n",
    "logging.info('Concated all pandas dataframes')"
   ]
  },
  {
   "cell_type": "markdown",
   "metadata": {},
   "source": [
    "### Filter using selected structures"
   ]
  },
  {
   "cell_type": "code",
   "execution_count": 21,
   "metadata": {},
   "outputs": [],
   "source": [
    "filtered_concated_df = concated_df.query('file_name in @selected_structures_df.file_name.values')\n"
   ]
  },
  {
   "cell_type": "markdown",
   "metadata": {},
   "source": [
    "### Save to csv"
   ]
  },
  {
   "cell_type": "code",
   "execution_count": 22,
   "metadata": {},
   "outputs": [
    {
     "name": "stderr",
     "output_type": "stream",
     "text": [
      "Saved filtered_concated_df to /home/projects/genomics/active_sites_mapped/active_sites_concated.csv\n"
     ]
    }
   ],
   "source": [
    "filtered_concated_df.to_csv(CONCATED_DF_PATH)\n",
    "logging.info(f'Saved filtered_concated_df to {CONCATED_DF_PATH}')"
   ]
  },
  {
   "cell_type": "code",
   "execution_count": 23,
   "metadata": {},
   "outputs": [
    {
     "name": "stderr",
     "output_type": "stream",
     "text": [
      "Paths can be found in the first section of the notebook\n",
      "FINISHED AT: 2022-08-16 20:03:02.421967\n"
     ]
    }
   ],
   "source": [
    "logging.info('Paths can be found in the first section of the notebook')\n",
    "\n",
    "finished = datetime.now()\n",
    "logging.info(f'FINISHED AT: {finished}')"
   ]
  }
 ],
 "metadata": {
  "kernelspec": {
   "display_name": "Python 3 (ipykernel)",
   "language": "python",
   "name": "python3"
  },
  "language_info": {
   "codemirror_mode": {
    "name": "ipython",
    "version": 3
   },
   "file_extension": ".py",
   "mimetype": "text/x-python",
   "name": "python",
   "nbconvert_exporter": "python",
   "pygments_lexer": "ipython3",
   "version": "3.9.7"
  },
  "orig_nbformat": 4
 },
 "nbformat": 4,
 "nbformat_minor": 2
}
