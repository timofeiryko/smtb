{
 "cells": [
  {
   "cell_type": "markdown",
   "metadata": {},
   "source": [
    "# Imports and set up"
   ]
  },
  {
   "cell_type": "code",
   "execution_count": 1,
   "metadata": {},
   "outputs": [],
   "source": [
    "import pandas as pd\n",
    "import matplotlib.pyplot as plt\n",
    "import seaborn as sns\n",
    "\n",
    "import os\n",
    "import glob"
   ]
  },
  {
   "cell_type": "code",
   "execution_count": 2,
   "metadata": {},
   "outputs": [],
   "source": [
    "WORKING_DIR = '/home/projects/genomics'\n",
    "DATA_DIR = '/home/projects/genomics/sample_mapping'\n",
    "CONCATED_DF_PATH = '/home/projects/genomics/active_sites_concated.csv'\n",
    "FILES_DF_PATH = '/home/projects/genomics/active_sites_id_index.csv'"
   ]
  },
  {
   "cell_type": "markdown",
   "metadata": {},
   "source": [
    "# Get the data\n",
    "\n",
    "WARNING: I will get and concat all the data files later, after filtering `files_df`"
   ]
  },
  {
   "cell_type": "markdown",
   "metadata": {},
   "source": [
    "### Dataframe of files"
   ]
  },
  {
   "cell_type": "code",
   "execution_count": 3,
   "metadata": {},
   "outputs": [],
   "source": [
    "filenames = [os.path.basename(x) for x in glob.glob(DATA_DIR + '/*')]\n",
    "\n",
    "files_df = pd.DataFrame(filenames, columns=['file_name'])"
   ]
  },
  {
   "cell_type": "markdown",
   "metadata": {},
   "source": [
    "# Extract info from filenames"
   ]
  },
  {
   "cell_type": "code",
   "execution_count": 4,
   "metadata": {},
   "outputs": [
    {
     "data": {
      "text/html": [
       "<div>\n",
       "<style scoped>\n",
       "    .dataframe tbody tr th:only-of-type {\n",
       "        vertical-align: middle;\n",
       "    }\n",
       "\n",
       "    .dataframe tbody tr th {\n",
       "        vertical-align: top;\n",
       "    }\n",
       "\n",
       "    .dataframe thead th {\n",
       "        text-align: right;\n",
       "    }\n",
       "</style>\n",
       "<table border=\"1\" class=\"dataframe\">\n",
       "  <thead>\n",
       "    <tr style=\"text-align: right;\">\n",
       "      <th></th>\n",
       "      <th>file_name</th>\n",
       "    </tr>\n",
       "  </thead>\n",
       "  <tbody>\n",
       "    <tr>\n",
       "      <th>0</th>\n",
       "      <td>ENSP00000005259.4_4w80_D_SO4</td>\n",
       "    </tr>\n",
       "    <tr>\n",
       "      <th>1</th>\n",
       "      <td>ENSP00000080059.7_3znr_B_ZN</td>\n",
       "    </tr>\n",
       "    <tr>\n",
       "      <th>2</th>\n",
       "      <td>ENSP00000023897.6_6i53_D_NAG</td>\n",
       "    </tr>\n",
       "    <tr>\n",
       "      <th>3</th>\n",
       "      <td>ENSP00000164139.3_1p4h_A_PO4</td>\n",
       "    </tr>\n",
       "    <tr>\n",
       "      <th>4</th>\n",
       "      <td>ENSP00000164139.3_2g9r_A_G27</td>\n",
       "    </tr>\n",
       "  </tbody>\n",
       "</table>\n",
       "</div>"
      ],
      "text/plain": [
       "                      file_name\n",
       "0  ENSP00000005259.4_4w80_D_SO4\n",
       "1   ENSP00000080059.7_3znr_B_ZN\n",
       "2  ENSP00000023897.6_6i53_D_NAG\n",
       "3  ENSP00000164139.3_1p4h_A_PO4\n",
       "4  ENSP00000164139.3_2g9r_A_G27"
      ]
     },
     "execution_count": 4,
     "metadata": {},
     "output_type": "execute_result"
    }
   ],
   "source": [
    "files_df.head()"
   ]
  },
  {
   "cell_type": "code",
   "execution_count": 5,
   "metadata": {},
   "outputs": [],
   "source": [
    "files_df['ensp_id'] = files_df.apply(lambda row: row['file_name'].split('.')[0], axis='columns')"
   ]
  },
  {
   "cell_type": "code",
   "execution_count": 6,
   "metadata": {},
   "outputs": [
    {
     "data": {
      "text/html": [
       "<div>\n",
       "<style scoped>\n",
       "    .dataframe tbody tr th:only-of-type {\n",
       "        vertical-align: middle;\n",
       "    }\n",
       "\n",
       "    .dataframe tbody tr th {\n",
       "        vertical-align: top;\n",
       "    }\n",
       "\n",
       "    .dataframe thead th {\n",
       "        text-align: right;\n",
       "    }\n",
       "</style>\n",
       "<table border=\"1\" class=\"dataframe\">\n",
       "  <thead>\n",
       "    <tr style=\"text-align: right;\">\n",
       "      <th></th>\n",
       "      <th>file_name</th>\n",
       "      <th>ensp_id</th>\n",
       "    </tr>\n",
       "  </thead>\n",
       "  <tbody>\n",
       "    <tr>\n",
       "      <th>0</th>\n",
       "      <td>ENSP00000005259.4_4w80_D_SO4</td>\n",
       "      <td>ENSP00000005259</td>\n",
       "    </tr>\n",
       "    <tr>\n",
       "      <th>1</th>\n",
       "      <td>ENSP00000080059.7_3znr_B_ZN</td>\n",
       "      <td>ENSP00000080059</td>\n",
       "    </tr>\n",
       "    <tr>\n",
       "      <th>2</th>\n",
       "      <td>ENSP00000023897.6_6i53_D_NAG</td>\n",
       "      <td>ENSP00000023897</td>\n",
       "    </tr>\n",
       "    <tr>\n",
       "      <th>3</th>\n",
       "      <td>ENSP00000164139.3_1p4h_A_PO4</td>\n",
       "      <td>ENSP00000164139</td>\n",
       "    </tr>\n",
       "    <tr>\n",
       "      <th>4</th>\n",
       "      <td>ENSP00000164139.3_2g9r_A_G27</td>\n",
       "      <td>ENSP00000164139</td>\n",
       "    </tr>\n",
       "  </tbody>\n",
       "</table>\n",
       "</div>"
      ],
      "text/plain": [
       "                      file_name          ensp_id\n",
       "0  ENSP00000005259.4_4w80_D_SO4  ENSP00000005259\n",
       "1   ENSP00000080059.7_3znr_B_ZN  ENSP00000080059\n",
       "2  ENSP00000023897.6_6i53_D_NAG  ENSP00000023897\n",
       "3  ENSP00000164139.3_1p4h_A_PO4  ENSP00000164139\n",
       "4  ENSP00000164139.3_2g9r_A_G27  ENSP00000164139"
      ]
     },
     "execution_count": 6,
     "metadata": {},
     "output_type": "execute_result"
    }
   ],
   "source": [
    "files_df.head()"
   ]
  },
  {
   "cell_type": "code",
   "execution_count": 7,
   "metadata": {},
   "outputs": [],
   "source": [
    "def get_ensp_version(row):\n",
    "    right_part = row['file_name'].split('.')[1]\n",
    "    return right_part.split('_')[0]"
   ]
  },
  {
   "cell_type": "code",
   "execution_count": 8,
   "metadata": {},
   "outputs": [],
   "source": [
    "files_df['ensp_version'] = files_df.apply(get_ensp_version, axis='columns')"
   ]
  },
  {
   "cell_type": "code",
   "execution_count": 9,
   "metadata": {},
   "outputs": [],
   "source": [
    "def get_pdb_id(row):\n",
    "    right_part = row['file_name'].split('.')[1]\n",
    "    return right_part.split('_')[1]"
   ]
  },
  {
   "cell_type": "code",
   "execution_count": 10,
   "metadata": {},
   "outputs": [],
   "source": [
    "files_df['pdb_id'] = files_df.apply(get_pdb_id, axis='columns')"
   ]
  },
  {
   "cell_type": "code",
   "execution_count": 11,
   "metadata": {},
   "outputs": [],
   "source": [
    "def get_chain(row):\n",
    "    right_part = row['file_name'].split('.')[1]\n",
    "    return right_part.split('_')[2]"
   ]
  },
  {
   "cell_type": "code",
   "execution_count": 12,
   "metadata": {},
   "outputs": [],
   "source": [
    "files_df['chain'] = files_df.apply(get_chain, axis='columns')"
   ]
  },
  {
   "cell_type": "code",
   "execution_count": 13,
   "metadata": {},
   "outputs": [],
   "source": [
    "def get_ligand(row):\n",
    "    right_part = row['file_name'].split('.')[1]\n",
    "    return right_part.split('_')[3]"
   ]
  },
  {
   "cell_type": "code",
   "execution_count": 14,
   "metadata": {},
   "outputs": [],
   "source": [
    "files_df['ligand'] = files_df.apply(get_ligand, axis='columns')"
   ]
  },
  {
   "cell_type": "code",
   "execution_count": 15,
   "metadata": {},
   "outputs": [
    {
     "data": {
      "text/html": [
       "<div>\n",
       "<style scoped>\n",
       "    .dataframe tbody tr th:only-of-type {\n",
       "        vertical-align: middle;\n",
       "    }\n",
       "\n",
       "    .dataframe tbody tr th {\n",
       "        vertical-align: top;\n",
       "    }\n",
       "\n",
       "    .dataframe thead th {\n",
       "        text-align: right;\n",
       "    }\n",
       "</style>\n",
       "<table border=\"1\" class=\"dataframe\">\n",
       "  <thead>\n",
       "    <tr style=\"text-align: right;\">\n",
       "      <th></th>\n",
       "      <th>file_name</th>\n",
       "      <th>ensp_id</th>\n",
       "      <th>ensp_version</th>\n",
       "      <th>pdb_id</th>\n",
       "      <th>chain</th>\n",
       "      <th>ligand</th>\n",
       "    </tr>\n",
       "  </thead>\n",
       "  <tbody>\n",
       "    <tr>\n",
       "      <th>0</th>\n",
       "      <td>ENSP00000005259.4_4w80_D_SO4</td>\n",
       "      <td>ENSP00000005259</td>\n",
       "      <td>4</td>\n",
       "      <td>4w80</td>\n",
       "      <td>D</td>\n",
       "      <td>SO4</td>\n",
       "    </tr>\n",
       "    <tr>\n",
       "      <th>1</th>\n",
       "      <td>ENSP00000080059.7_3znr_B_ZN</td>\n",
       "      <td>ENSP00000080059</td>\n",
       "      <td>7</td>\n",
       "      <td>3znr</td>\n",
       "      <td>B</td>\n",
       "      <td>ZN</td>\n",
       "    </tr>\n",
       "    <tr>\n",
       "      <th>2</th>\n",
       "      <td>ENSP00000023897.6_6i53_D_NAG</td>\n",
       "      <td>ENSP00000023897</td>\n",
       "      <td>6</td>\n",
       "      <td>6i53</td>\n",
       "      <td>D</td>\n",
       "      <td>NAG</td>\n",
       "    </tr>\n",
       "    <tr>\n",
       "      <th>3</th>\n",
       "      <td>ENSP00000164139.3_1p4h_A_PO4</td>\n",
       "      <td>ENSP00000164139</td>\n",
       "      <td>3</td>\n",
       "      <td>1p4h</td>\n",
       "      <td>A</td>\n",
       "      <td>PO4</td>\n",
       "    </tr>\n",
       "    <tr>\n",
       "      <th>4</th>\n",
       "      <td>ENSP00000164139.3_2g9r_A_G27</td>\n",
       "      <td>ENSP00000164139</td>\n",
       "      <td>3</td>\n",
       "      <td>2g9r</td>\n",
       "      <td>A</td>\n",
       "      <td>G27</td>\n",
       "    </tr>\n",
       "  </tbody>\n",
       "</table>\n",
       "</div>"
      ],
      "text/plain": [
       "                      file_name          ensp_id ensp_version pdb_id chain  \\\n",
       "0  ENSP00000005259.4_4w80_D_SO4  ENSP00000005259            4   4w80     D   \n",
       "1   ENSP00000080059.7_3znr_B_ZN  ENSP00000080059            7   3znr     B   \n",
       "2  ENSP00000023897.6_6i53_D_NAG  ENSP00000023897            6   6i53     D   \n",
       "3  ENSP00000164139.3_1p4h_A_PO4  ENSP00000164139            3   1p4h     A   \n",
       "4  ENSP00000164139.3_2g9r_A_G27  ENSP00000164139            3   2g9r     A   \n",
       "\n",
       "  ligand  \n",
       "0    SO4  \n",
       "1     ZN  \n",
       "2    NAG  \n",
       "3    PO4  \n",
       "4    G27  "
      ]
     },
     "execution_count": 15,
     "metadata": {},
     "output_type": "execute_result"
    }
   ],
   "source": [
    "files_df.head()"
   ]
  },
  {
   "cell_type": "markdown",
   "metadata": {},
   "source": [
    "# Check for the same proteins"
   ]
  },
  {
   "cell_type": "code",
   "execution_count": 16,
   "metadata": {},
   "outputs": [
    {
     "data": {
      "text/html": [
       "<div>\n",
       "<style scoped>\n",
       "    .dataframe tbody tr th:only-of-type {\n",
       "        vertical-align: middle;\n",
       "    }\n",
       "\n",
       "    .dataframe tbody tr th {\n",
       "        vertical-align: top;\n",
       "    }\n",
       "\n",
       "    .dataframe thead th {\n",
       "        text-align: right;\n",
       "    }\n",
       "</style>\n",
       "<table border=\"1\" class=\"dataframe\">\n",
       "  <thead>\n",
       "    <tr style=\"text-align: right;\">\n",
       "      <th></th>\n",
       "      <th>file_name</th>\n",
       "      <th>ensp_id</th>\n",
       "      <th>ensp_version</th>\n",
       "      <th>pdb_id</th>\n",
       "      <th>chain</th>\n",
       "      <th>ligand</th>\n",
       "    </tr>\n",
       "  </thead>\n",
       "  <tbody>\n",
       "    <tr>\n",
       "      <th>0</th>\n",
       "      <td>ENSP00000005259.4_4w80_D_SO4</td>\n",
       "      <td>ENSP00000005259</td>\n",
       "      <td>4</td>\n",
       "      <td>4w80</td>\n",
       "      <td>D</td>\n",
       "      <td>SO4</td>\n",
       "    </tr>\n",
       "    <tr>\n",
       "      <th>1</th>\n",
       "      <td>ENSP00000080059.7_3znr_B_ZN</td>\n",
       "      <td>ENSP00000080059</td>\n",
       "      <td>7</td>\n",
       "      <td>3znr</td>\n",
       "      <td>B</td>\n",
       "      <td>ZN</td>\n",
       "    </tr>\n",
       "    <tr>\n",
       "      <th>2</th>\n",
       "      <td>ENSP00000023897.6_6i53_D_NAG</td>\n",
       "      <td>ENSP00000023897</td>\n",
       "      <td>6</td>\n",
       "      <td>6i53</td>\n",
       "      <td>D</td>\n",
       "      <td>NAG</td>\n",
       "    </tr>\n",
       "    <tr>\n",
       "      <th>3</th>\n",
       "      <td>ENSP00000164139.3_1p4h_A_PO4</td>\n",
       "      <td>ENSP00000164139</td>\n",
       "      <td>3</td>\n",
       "      <td>1p4h</td>\n",
       "      <td>A</td>\n",
       "      <td>PO4</td>\n",
       "    </tr>\n",
       "    <tr>\n",
       "      <th>4</th>\n",
       "      <td>ENSP00000164139.3_2g9r_A_G27</td>\n",
       "      <td>ENSP00000164139</td>\n",
       "      <td>3</td>\n",
       "      <td>2g9r</td>\n",
       "      <td>A</td>\n",
       "      <td>G27</td>\n",
       "    </tr>\n",
       "  </tbody>\n",
       "</table>\n",
       "</div>"
      ],
      "text/plain": [
       "                      file_name          ensp_id ensp_version pdb_id chain  \\\n",
       "0  ENSP00000005259.4_4w80_D_SO4  ENSP00000005259            4   4w80     D   \n",
       "1   ENSP00000080059.7_3znr_B_ZN  ENSP00000080059            7   3znr     B   \n",
       "2  ENSP00000023897.6_6i53_D_NAG  ENSP00000023897            6   6i53     D   \n",
       "3  ENSP00000164139.3_1p4h_A_PO4  ENSP00000164139            3   1p4h     A   \n",
       "4  ENSP00000164139.3_2g9r_A_G27  ENSP00000164139            3   2g9r     A   \n",
       "\n",
       "  ligand  \n",
       "0    SO4  \n",
       "1     ZN  \n",
       "2    NAG  \n",
       "3    PO4  \n",
       "4    G27  "
      ]
     },
     "execution_count": 16,
     "metadata": {},
     "output_type": "execute_result"
    }
   ],
   "source": [
    "files_df.head()"
   ]
  },
  {
   "cell_type": "code",
   "execution_count": 17,
   "metadata": {},
   "outputs": [
    {
     "data": {
      "image/png": "[encoded data removed]",
      "text/plain": [
       "<Figure size 432x288 with 1 Axes>"
      ]
     },
     "metadata": {
      "needs_background": "light"
     },
     "output_type": "display_data"
    }
   ],
   "source": [
    "files_df.groupby(['pdb_id', 'chain', 'ligand']).file_name.count().value_counts()[::-1].plot(kind='barh')\n",
    "plt.title('Grouped by PDB ID, chain, ligand')\n",
    "plt.show()"
   ]
  },
  {
   "cell_type": "code",
   "execution_count": 18,
   "metadata": {},
   "outputs": [
    {
     "data": {
      "image/png": "[encoded data removed]",
      "text/plain": [
       "<Figure size 432x288 with 1 Axes>"
      ]
     },
     "metadata": {
      "needs_background": "light"
     },
     "output_type": "display_data"
    }
   ],
   "source": [
    "files_df.groupby(['ensp_id', 'chain', 'ligand']).file_name.count().value_counts()[::-1].plot(kind='barh')\n",
    "plt.title('Grouped by ENSEMBL ID, chain, ligand')\n",
    "plt.show()"
   ]
  },
  {
   "cell_type": "code",
   "execution_count": 19,
   "metadata": {},
   "outputs": [
    {
     "data": {
      "image/png": "[encoded data removed]",
      "text/plain": [
       "<Figure size 432x288 with 1 Axes>"
      ]
     },
     "metadata": {
      "needs_background": "light"
     },
     "output_type": "display_data"
    }
   ],
   "source": [
    "files_df.groupby(['ensp_id', 'ligand']).file_name.count().value_counts()[::-1].plot(kind='barh')\n",
    "plt.title('Grouped by ENSEMBL ID, ligand')\n",
    "plt.show()"
   ]
  },
  {
   "cell_type": "markdown",
   "metadata": {},
   "source": [
    "For now we are not taking chain int account (we just chose random chain):"
   ]
  },
  {
   "cell_type": "code",
   "execution_count": 20,
   "metadata": {},
   "outputs": [
    {
     "data": {
      "text/html": [
       "<div>\n",
       "<style scoped>\n",
       "    .dataframe tbody tr th:only-of-type {\n",
       "        vertical-align: middle;\n",
       "    }\n",
       "\n",
       "    .dataframe tbody tr th {\n",
       "        vertical-align: top;\n",
       "    }\n",
       "\n",
       "    .dataframe thead th {\n",
       "        text-align: right;\n",
       "    }\n",
       "</style>\n",
       "<table border=\"1\" class=\"dataframe\">\n",
       "  <thead>\n",
       "    <tr style=\"text-align: right;\">\n",
       "      <th></th>\n",
       "      <th>file_name</th>\n",
       "      <th>ensp_id</th>\n",
       "      <th>ensp_version</th>\n",
       "      <th>pdb_id</th>\n",
       "      <th>chain</th>\n",
       "      <th>ligand</th>\n",
       "    </tr>\n",
       "  </thead>\n",
       "  <tbody>\n",
       "    <tr>\n",
       "      <th>0</th>\n",
       "      <td>ENSP00000005259.4_4w80_D_SO4</td>\n",
       "      <td>ENSP00000005259</td>\n",
       "      <td>4</td>\n",
       "      <td>4w80</td>\n",
       "      <td>D</td>\n",
       "      <td>SO4</td>\n",
       "    </tr>\n",
       "    <tr>\n",
       "      <th>1</th>\n",
       "      <td>ENSP00000080059.7_3znr_B_ZN</td>\n",
       "      <td>ENSP00000080059</td>\n",
       "      <td>7</td>\n",
       "      <td>3znr</td>\n",
       "      <td>B</td>\n",
       "      <td>ZN</td>\n",
       "    </tr>\n",
       "    <tr>\n",
       "      <th>2</th>\n",
       "      <td>ENSP00000023897.6_6i53_D_NAG</td>\n",
       "      <td>ENSP00000023897</td>\n",
       "      <td>6</td>\n",
       "      <td>6i53</td>\n",
       "      <td>D</td>\n",
       "      <td>NAG</td>\n",
       "    </tr>\n",
       "    <tr>\n",
       "      <th>3</th>\n",
       "      <td>ENSP00000164139.3_1p4h_A_PO4</td>\n",
       "      <td>ENSP00000164139</td>\n",
       "      <td>3</td>\n",
       "      <td>1p4h</td>\n",
       "      <td>A</td>\n",
       "      <td>PO4</td>\n",
       "    </tr>\n",
       "    <tr>\n",
       "      <th>4</th>\n",
       "      <td>ENSP00000164139.3_2g9r_A_G27</td>\n",
       "      <td>ENSP00000164139</td>\n",
       "      <td>3</td>\n",
       "      <td>2g9r</td>\n",
       "      <td>A</td>\n",
       "      <td>G27</td>\n",
       "    </tr>\n",
       "    <tr>\n",
       "      <th>...</th>\n",
       "      <td>...</td>\n",
       "      <td>...</td>\n",
       "      <td>...</td>\n",
       "      <td>...</td>\n",
       "      <td>...</td>\n",
       "      <td>...</td>\n",
       "    </tr>\n",
       "    <tr>\n",
       "      <th>970</th>\n",
       "      <td>ENSP00000023897.6_6x3v_D_V8D</td>\n",
       "      <td>ENSP00000023897</td>\n",
       "      <td>6</td>\n",
       "      <td>6x3v</td>\n",
       "      <td>D</td>\n",
       "      <td>V8D</td>\n",
       "    </tr>\n",
       "    <tr>\n",
       "      <th>972</th>\n",
       "      <td>ENSP00000164139.3_1axr_A_HTP</td>\n",
       "      <td>ENSP00000164139</td>\n",
       "      <td>3</td>\n",
       "      <td>1axr</td>\n",
       "      <td>A</td>\n",
       "      <td>HTP</td>\n",
       "    </tr>\n",
       "    <tr>\n",
       "      <th>983</th>\n",
       "      <td>ENSP00000011292.3_3fju_A_NA</td>\n",
       "      <td>ENSP00000011292</td>\n",
       "      <td>3</td>\n",
       "      <td>3fju</td>\n",
       "      <td>A</td>\n",
       "      <td>NA</td>\n",
       "    </tr>\n",
       "    <tr>\n",
       "      <th>989</th>\n",
       "      <td>ENSP00000164139.3_1wv0_A_BN4</td>\n",
       "      <td>ENSP00000164139</td>\n",
       "      <td>3</td>\n",
       "      <td>1wv0</td>\n",
       "      <td>A</td>\n",
       "      <td>BN4</td>\n",
       "    </tr>\n",
       "    <tr>\n",
       "      <th>999</th>\n",
       "      <td>ENSP00000005226.7_5f3x_A_CL</td>\n",
       "      <td>ENSP00000005226</td>\n",
       "      <td>7</td>\n",
       "      <td>5f3x</td>\n",
       "      <td>A</td>\n",
       "      <td>CL</td>\n",
       "    </tr>\n",
       "  </tbody>\n",
       "</table>\n",
       "<p>333 rows × 6 columns</p>\n",
       "</div>"
      ],
      "text/plain": [
       "                        file_name          ensp_id ensp_version pdb_id chain  \\\n",
       "0    ENSP00000005259.4_4w80_D_SO4  ENSP00000005259            4   4w80     D   \n",
       "1     ENSP00000080059.7_3znr_B_ZN  ENSP00000080059            7   3znr     B   \n",
       "2    ENSP00000023897.6_6i53_D_NAG  ENSP00000023897            6   6i53     D   \n",
       "3    ENSP00000164139.3_1p4h_A_PO4  ENSP00000164139            3   1p4h     A   \n",
       "4    ENSP00000164139.3_2g9r_A_G27  ENSP00000164139            3   2g9r     A   \n",
       "..                            ...              ...          ...    ...   ...   \n",
       "970  ENSP00000023897.6_6x3v_D_V8D  ENSP00000023897            6   6x3v     D   \n",
       "972  ENSP00000164139.3_1axr_A_HTP  ENSP00000164139            3   1axr     A   \n",
       "983   ENSP00000011292.3_3fju_A_NA  ENSP00000011292            3   3fju     A   \n",
       "989  ENSP00000164139.3_1wv0_A_BN4  ENSP00000164139            3   1wv0     A   \n",
       "999   ENSP00000005226.7_5f3x_A_CL  ENSP00000005226            7   5f3x     A   \n",
       "\n",
       "    ligand  \n",
       "0      SO4  \n",
       "1       ZN  \n",
       "2      NAG  \n",
       "3      PO4  \n",
       "4      G27  \n",
       "..     ...  \n",
       "970    V8D  \n",
       "972    HTP  \n",
       "983     NA  \n",
       "989    BN4  \n",
       "999     CL  \n",
       "\n",
       "[333 rows x 6 columns]"
      ]
     },
     "execution_count": 20,
     "metadata": {},
     "output_type": "execute_result"
    }
   ],
   "source": [
    "files_df.drop_duplicates(subset=['ensp_id', 'ligand'])"
   ]
  },
  {
   "cell_type": "code",
   "execution_count": 21,
   "metadata": {},
   "outputs": [
    {
     "data": {
      "text/html": [
       "<div>\n",
       "<style scoped>\n",
       "    .dataframe tbody tr th:only-of-type {\n",
       "        vertical-align: middle;\n",
       "    }\n",
       "\n",
       "    .dataframe tbody tr th {\n",
       "        vertical-align: top;\n",
       "    }\n",
       "\n",
       "    .dataframe thead th {\n",
       "        text-align: right;\n",
       "    }\n",
       "</style>\n",
       "<table border=\"1\" class=\"dataframe\">\n",
       "  <thead>\n",
       "    <tr style=\"text-align: right;\">\n",
       "      <th></th>\n",
       "      <th>file_name</th>\n",
       "      <th>ensp_id</th>\n",
       "      <th>ensp_version</th>\n",
       "      <th>pdb_id</th>\n",
       "      <th>chain</th>\n",
       "      <th>ligand</th>\n",
       "    </tr>\n",
       "  </thead>\n",
       "  <tbody>\n",
       "    <tr>\n",
       "      <th>0</th>\n",
       "      <td>ENSP00000005259.4_4w80_D_SO4</td>\n",
       "      <td>ENSP00000005259</td>\n",
       "      <td>4</td>\n",
       "      <td>4w80</td>\n",
       "      <td>D</td>\n",
       "      <td>SO4</td>\n",
       "    </tr>\n",
       "    <tr>\n",
       "      <th>1</th>\n",
       "      <td>ENSP00000080059.7_3znr_B_ZN</td>\n",
       "      <td>ENSP00000080059</td>\n",
       "      <td>7</td>\n",
       "      <td>3znr</td>\n",
       "      <td>B</td>\n",
       "      <td>ZN</td>\n",
       "    </tr>\n",
       "    <tr>\n",
       "      <th>2</th>\n",
       "      <td>ENSP00000023897.6_6i53_D_NAG</td>\n",
       "      <td>ENSP00000023897</td>\n",
       "      <td>6</td>\n",
       "      <td>6i53</td>\n",
       "      <td>D</td>\n",
       "      <td>NAG</td>\n",
       "    </tr>\n",
       "    <tr>\n",
       "      <th>3</th>\n",
       "      <td>ENSP00000164139.3_1p4h_A_PO4</td>\n",
       "      <td>ENSP00000164139</td>\n",
       "      <td>3</td>\n",
       "      <td>1p4h</td>\n",
       "      <td>A</td>\n",
       "      <td>PO4</td>\n",
       "    </tr>\n",
       "    <tr>\n",
       "      <th>4</th>\n",
       "      <td>ENSP00000164139.3_2g9r_A_G27</td>\n",
       "      <td>ENSP00000164139</td>\n",
       "      <td>3</td>\n",
       "      <td>2g9r</td>\n",
       "      <td>A</td>\n",
       "      <td>G27</td>\n",
       "    </tr>\n",
       "  </tbody>\n",
       "</table>\n",
       "</div>"
      ],
      "text/plain": [
       "                      file_name          ensp_id ensp_version pdb_id chain  \\\n",
       "0  ENSP00000005259.4_4w80_D_SO4  ENSP00000005259            4   4w80     D   \n",
       "1   ENSP00000080059.7_3znr_B_ZN  ENSP00000080059            7   3znr     B   \n",
       "2  ENSP00000023897.6_6i53_D_NAG  ENSP00000023897            6   6i53     D   \n",
       "3  ENSP00000164139.3_1p4h_A_PO4  ENSP00000164139            3   1p4h     A   \n",
       "4  ENSP00000164139.3_2g9r_A_G27  ENSP00000164139            3   2g9r     A   \n",
       "\n",
       "  ligand  \n",
       "0    SO4  \n",
       "1     ZN  \n",
       "2    NAG  \n",
       "3    PO4  \n",
       "4    G27  "
      ]
     },
     "execution_count": 21,
     "metadata": {},
     "output_type": "execute_result"
    }
   ],
   "source": [
    "selected_structures_df = files_df.drop_duplicates(subset=['ensp_id', 'ligand'])\n",
    "selected_structures_df.head()"
   ]
  },
  {
   "cell_type": "markdown",
   "metadata": {},
   "source": [
    "# Concat files with AA positions"
   ]
  },
  {
   "cell_type": "markdown",
   "metadata": {},
   "source": [
    "###  Import data files to pandas"
   ]
  },
  {
   "cell_type": "code",
   "execution_count": 22,
   "metadata": {},
   "outputs": [],
   "source": [
    "def read_tsv_dir(dir_name):\n",
    "    \"\"\"\n",
    "    Reads all tsv files in a directory and returns a dict of pandas dataframes (filenames are keys).\n",
    "    \"\"\"\n",
    "    # TODO extensions etc\n",
    "\n",
    "    df_dict = {}\n",
    "\n",
    "    for path in glob.glob(dir_name + '/*'):\n",
    "        columns = ['position_ensp', 'aa_ensp', 'position_pdb', 'aa_pdb']\n",
    "        file = os.path.basename(path)\n",
    "        if file in selected_structures_df.file_name.values:\n",
    "            df_dict[file] = pd.read_csv(path, sep='\\t', names=columns)\n",
    "    \n",
    "    return df_dict"
   ]
  },
  {
   "cell_type": "code",
   "execution_count": 23,
   "metadata": {},
   "outputs": [],
   "source": [
    "df_dict = read_tsv_dir(DATA_DIR)"
   ]
  },
  {
   "cell_type": "code",
   "execution_count": 24,
   "metadata": {},
   "outputs": [],
   "source": [
    "concated_df = None\n",
    "\n",
    "for filename, df in df_dict.items():\n",
    "\n",
    "    if concated_df is None:\n",
    "        concated_df = df\n",
    "        concated_df['file_name'] = filename\n",
    "        continue\n",
    "\n",
    "    df['file_name'] = filename\n",
    "    concated_df = pd.concat([concated_df, df])"
   ]
  },
  {
   "cell_type": "code",
   "execution_count": 25,
   "metadata": {},
   "outputs": [
    {
     "data": {
      "text/html": [
       "<div>\n",
       "<style scoped>\n",
       "    .dataframe tbody tr th:only-of-type {\n",
       "        vertical-align: middle;\n",
       "    }\n",
       "\n",
       "    .dataframe tbody tr th {\n",
       "        vertical-align: top;\n",
       "    }\n",
       "\n",
       "    .dataframe thead th {\n",
       "        text-align: right;\n",
       "    }\n",
       "</style>\n",
       "<table border=\"1\" class=\"dataframe\">\n",
       "  <thead>\n",
       "    <tr style=\"text-align: right;\">\n",
       "      <th></th>\n",
       "      <th>position_ensp</th>\n",
       "      <th>aa_ensp</th>\n",
       "      <th>position_pdb</th>\n",
       "      <th>aa_pdb</th>\n",
       "      <th>file_name</th>\n",
       "    </tr>\n",
       "  </thead>\n",
       "  <tbody>\n",
       "    <tr>\n",
       "      <th>0</th>\n",
       "      <td>185</td>\n",
       "      <td>E</td>\n",
       "      <td>16</td>\n",
       "      <td>E</td>\n",
       "      <td>ENSP00000005259.4_4w80_D_SO4</td>\n",
       "    </tr>\n",
       "    <tr>\n",
       "      <th>1</th>\n",
       "      <td>188</td>\n",
       "      <td>K</td>\n",
       "      <td>19</td>\n",
       "      <td>K</td>\n",
       "      <td>ENSP00000005259.4_4w80_D_SO4</td>\n",
       "    </tr>\n",
       "    <tr>\n",
       "      <th>2</th>\n",
       "      <td>189</td>\n",
       "      <td>T</td>\n",
       "      <td>20</td>\n",
       "      <td>T</td>\n",
       "      <td>ENSP00000005259.4_4w80_D_SO4</td>\n",
       "    </tr>\n",
       "    <tr>\n",
       "      <th>3</th>\n",
       "      <td>192</td>\n",
       "      <td>R</td>\n",
       "      <td>23</td>\n",
       "      <td>R</td>\n",
       "      <td>ENSP00000005259.4_4w80_D_SO4</td>\n",
       "    </tr>\n",
       "    <tr>\n",
       "      <th>4</th>\n",
       "      <td>193</td>\n",
       "      <td>K</td>\n",
       "      <td>24</td>\n",
       "      <td>K</td>\n",
       "      <td>ENSP00000005259.4_4w80_D_SO4</td>\n",
       "    </tr>\n",
       "  </tbody>\n",
       "</table>\n",
       "</div>"
      ],
      "text/plain": [
       "   position_ensp aa_ensp  position_pdb aa_pdb                     file_name\n",
       "0            185       E            16      E  ENSP00000005259.4_4w80_D_SO4\n",
       "1            188       K            19      K  ENSP00000005259.4_4w80_D_SO4\n",
       "2            189       T            20      T  ENSP00000005259.4_4w80_D_SO4\n",
       "3            192       R            23      R  ENSP00000005259.4_4w80_D_SO4\n",
       "4            193       K            24      K  ENSP00000005259.4_4w80_D_SO4"
      ]
     },
     "execution_count": 25,
     "metadata": {},
     "output_type": "execute_result"
    }
   ],
   "source": [
    "concated_df.head()"
   ]
  },
  {
   "cell_type": "markdown",
   "metadata": {},
   "source": [
    "### Filter using selected structures"
   ]
  },
  {
   "cell_type": "code",
   "execution_count": 26,
   "metadata": {},
   "outputs": [
    {
     "data": {
      "text/html": [
       "<div>\n",
       "<style scoped>\n",
       "    .dataframe tbody tr th:only-of-type {\n",
       "        vertical-align: middle;\n",
       "    }\n",
       "\n",
       "    .dataframe tbody tr th {\n",
       "        vertical-align: top;\n",
       "    }\n",
       "\n",
       "    .dataframe thead th {\n",
       "        text-align: right;\n",
       "    }\n",
       "</style>\n",
       "<table border=\"1\" class=\"dataframe\">\n",
       "  <thead>\n",
       "    <tr style=\"text-align: right;\">\n",
       "      <th></th>\n",
       "      <th>position_ensp</th>\n",
       "      <th>aa_ensp</th>\n",
       "      <th>position_pdb</th>\n",
       "      <th>aa_pdb</th>\n",
       "      <th>file_name</th>\n",
       "    </tr>\n",
       "  </thead>\n",
       "  <tbody>\n",
       "    <tr>\n",
       "      <th>0</th>\n",
       "      <td>185</td>\n",
       "      <td>E</td>\n",
       "      <td>16</td>\n",
       "      <td>E</td>\n",
       "      <td>ENSP00000005259.4_4w80_D_SO4</td>\n",
       "    </tr>\n",
       "    <tr>\n",
       "      <th>1</th>\n",
       "      <td>188</td>\n",
       "      <td>K</td>\n",
       "      <td>19</td>\n",
       "      <td>K</td>\n",
       "      <td>ENSP00000005259.4_4w80_D_SO4</td>\n",
       "    </tr>\n",
       "    <tr>\n",
       "      <th>2</th>\n",
       "      <td>189</td>\n",
       "      <td>T</td>\n",
       "      <td>20</td>\n",
       "      <td>T</td>\n",
       "      <td>ENSP00000005259.4_4w80_D_SO4</td>\n",
       "    </tr>\n",
       "    <tr>\n",
       "      <th>3</th>\n",
       "      <td>192</td>\n",
       "      <td>R</td>\n",
       "      <td>23</td>\n",
       "      <td>R</td>\n",
       "      <td>ENSP00000005259.4_4w80_D_SO4</td>\n",
       "    </tr>\n",
       "    <tr>\n",
       "      <th>4</th>\n",
       "      <td>193</td>\n",
       "      <td>K</td>\n",
       "      <td>24</td>\n",
       "      <td>K</td>\n",
       "      <td>ENSP00000005259.4_4w80_D_SO4</td>\n",
       "    </tr>\n",
       "  </tbody>\n",
       "</table>\n",
       "</div>"
      ],
      "text/plain": [
       "   position_ensp aa_ensp  position_pdb aa_pdb                     file_name\n",
       "0            185       E            16      E  ENSP00000005259.4_4w80_D_SO4\n",
       "1            188       K            19      K  ENSP00000005259.4_4w80_D_SO4\n",
       "2            189       T            20      T  ENSP00000005259.4_4w80_D_SO4\n",
       "3            192       R            23      R  ENSP00000005259.4_4w80_D_SO4\n",
       "4            193       K            24      K  ENSP00000005259.4_4w80_D_SO4"
      ]
     },
     "execution_count": 26,
     "metadata": {},
     "output_type": "execute_result"
    }
   ],
   "source": [
    "filtered_concated_df = concated_df.query('file_name in @selected_structures_df.file_name')\n",
    "filtered_concated_df.head()"
   ]
  },
  {
   "cell_type": "code",
   "execution_count": 27,
   "metadata": {},
   "outputs": [
    {
     "data": {
      "text/html": [
       "<div>\n",
       "<style scoped>\n",
       "    .dataframe tbody tr th:only-of-type {\n",
       "        vertical-align: middle;\n",
       "    }\n",
       "\n",
       "    .dataframe tbody tr th {\n",
       "        vertical-align: top;\n",
       "    }\n",
       "\n",
       "    .dataframe thead th {\n",
       "        text-align: right;\n",
       "    }\n",
       "</style>\n",
       "<table border=\"1\" class=\"dataframe\">\n",
       "  <thead>\n",
       "    <tr style=\"text-align: right;\">\n",
       "      <th></th>\n",
       "      <th>file_name</th>\n",
       "      <th>ensp_id</th>\n",
       "      <th>ensp_version</th>\n",
       "      <th>pdb_id</th>\n",
       "      <th>chain</th>\n",
       "      <th>ligand</th>\n",
       "    </tr>\n",
       "  </thead>\n",
       "  <tbody>\n",
       "    <tr>\n",
       "      <th>0</th>\n",
       "      <td>ENSP00000005259.4_4w80_D_SO4</td>\n",
       "      <td>ENSP00000005259</td>\n",
       "      <td>4</td>\n",
       "      <td>4w80</td>\n",
       "      <td>D</td>\n",
       "      <td>SO4</td>\n",
       "    </tr>\n",
       "  </tbody>\n",
       "</table>\n",
       "</div>"
      ],
      "text/plain": [
       "                      file_name          ensp_id ensp_version pdb_id chain  \\\n",
       "0  ENSP00000005259.4_4w80_D_SO4  ENSP00000005259            4   4w80     D   \n",
       "\n",
       "  ligand  \n",
       "0    SO4  "
      ]
     },
     "execution_count": 27,
     "metadata": {},
     "output_type": "execute_result"
    }
   ],
   "source": [
    "files_df[files_df.file_name == 'ENSP00000005259.4_4w80_D_SO4']"
   ]
  },
  {
   "cell_type": "markdown",
   "metadata": {},
   "source": [
    "# Ligands EDA"
   ]
  },
  {
   "cell_type": "code",
   "execution_count": 28,
   "metadata": {},
   "outputs": [
    {
     "data": {
      "image/png": "[encoded data removed]",
      "text/plain": [
       "<Figure size 720x360 with 1 Axes>"
      ]
     },
     "metadata": {
      "needs_background": "light"
     },
     "output_type": "display_data"
    }
   ],
   "source": [
    "plt.figure(figsize=(10, 5))\n",
    "\n",
    "ax = sns.countplot(\n",
    "    x='ligand', data=selected_structures_df,\n",
    "    palette='crest_r',\n",
    "    order=selected_structures_df.ligand.value_counts()[:15].index\n",
    ")\n",
    "\n",
    "bars = ax.containers[0]\n",
    "\n",
    "plt.title('Most common ligands')\n",
    "ax.bar_label(bars, label_type='center')\n",
    "\n",
    "plt.show()"
   ]
  },
  {
   "cell_type": "markdown",
   "metadata": {},
   "source": [
    "# Save the results"
   ]
  },
  {
   "cell_type": "code",
   "execution_count": 29,
   "metadata": {},
   "outputs": [],
   "source": [
    "filtered_concated_df.to_csv(CONCATED_DF_PATH)\n",
    "selected_structures_df.to_csv(FILES_DF_PATH)"
   ]
  }
 ],
 "metadata": {
  "kernelspec": {
   "display_name": "Python 3 (ipykernel)",
   "language": "python",
   "name": "python3"
  },
  "language_info": {
   "codemirror_mode": {
    "name": "ipython",
    "version": 3
   },
   "file_extension": ".py",
   "mimetype": "text/x-python",
   "name": "python",
   "nbconvert_exporter": "python",
   "pygments_lexer": "ipython3",
   "version": "3.9.7"
  },
  "orig_nbformat": 4
 },
 "nbformat": 4,
 "nbformat_minor": 2
}
