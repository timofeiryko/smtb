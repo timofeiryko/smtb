{
 "cells": [
  {
   "cell_type": "markdown",
   "metadata": {},
   "source": [
    "# Imports and set up"
   ]
  },
  {
   "cell_type": "code",
   "execution_count": 1,
   "metadata": {},
   "outputs": [],
   "source": [
    "import pandas as pd\n",
    "import os\n",
    "import glob"
   ]
  },
  {
   "cell_type": "code",
   "execution_count": 2,
   "metadata": {},
   "outputs": [],
   "source": [
    "WORKING_DIR = '/home/projects/genomics'\n",
    "\n",
    "os.chdir(WORKING_DIR)"
   ]
  },
  {
   "cell_type": "markdown",
   "metadata": {},
   "source": [
    "### Install VEP using docker"
   ]
  },
  {
   "cell_type": "code",
   "execution_count": null,
   "metadata": {},
   "outputs": [],
   "source": []
  },
  {
   "cell_type": "markdown",
   "metadata": {},
   "source": [
    "You need docker to run this mnotebook! We need it to install VEP"
   ]
  },
  {
   "cell_type": "markdown",
   "metadata": {},
   "source": [
    "# Get the data"
   ]
  },
  {
   "cell_type": "markdown",
   "metadata": {},
   "source": [
    "### Copy just 10 files to try out\n",
    "\n",
    "WARNING: this code uses bash and runs on linux only!"
   ]
  },
  {
   "cell_type": "code",
   "execution_count": 3,
   "metadata": {},
   "outputs": [],
   "source": [
    "%%bash\n",
    "rm -rf sample_summary_stats\n",
    "mkdir sample_summary_stats"
   ]
  },
  {
   "cell_type": "code",
   "execution_count": 4,
   "metadata": {},
   "outputs": [],
   "source": [
    "os.chdir('/home/projects/genomics/summary_stats')"
   ]
  },
  {
   "cell_type": "code",
   "execution_count": 5,
   "metadata": {},
   "outputs": [
    {
     "name": "stdout",
     "output_type": "stream",
     "text": [
      "ls: write error: Broken pipe\n"
     ]
    }
   ],
   "source": [
    "! cp $(ls | head -10) /home/projects/genomics/sample"
   ]
  },
  {
   "cell_type": "code",
   "execution_count": 6,
   "metadata": {},
   "outputs": [],
   "source": [
    "os.chdir(WORKING_DIR)"
   ]
  },
  {
   "cell_type": "markdown",
   "metadata": {},
   "source": [
    "### We need .h file"
   ]
  },
  {
   "cell_type": "code",
   "execution_count": 40,
   "metadata": {},
   "outputs": [
    {
     "name": "stdout",
     "output_type": "stream",
     "text": [
      "34662886-GCST90077560-EFO_0004326-Build38.f.tsv.gz\n",
      "34662886-GCST90077560-EFO_0004326.h.tsv.gz\n",
      "34662886-GCST90077569-EFO_0009817-Build38.f.tsv.gz\n",
      "34662886-GCST90077569-EFO_0009817.h.tsv.gz\n",
      "34662886-GCST90077570-EFO_0009817-Build38.f.tsv.gz\n",
      "34662886-GCST90077570-EFO_0009817.h.tsv.gz\n",
      "34662886-GCST90077571-EFO_0009817-Build38.f.tsv.gz\n",
      "34662886-GCST90077571-EFO_0009817.h.tsv.gz\n",
      "34662886-GCST90077572-EFO_0009817-Build38.f.tsv.gz\n",
      "34662886-GCST90077572-EFO_0009817.h.tsv.gz\n"
     ]
    }
   ],
   "source": [
    "! ls sample"
   ]
  },
  {
   "cell_type": "code",
   "execution_count": 41,
   "metadata": {},
   "outputs": [],
   "source": [
    "TSV_FILE_PATH = 'sample/34662886-GCST90077560-EFO_0004326.h.tsv.gz'"
   ]
  },
  {
   "cell_type": "markdown",
   "metadata": {},
   "source": [
    "### Import to pandas"
   ]
  },
  {
   "cell_type": "code",
   "execution_count": 44,
   "metadata": {},
   "outputs": [],
   "source": [
    "df = pd.read_csv(TSV_FILE_PATH, sep='\\t', compression='gzip')"
   ]
  },
  {
   "cell_type": "code",
   "execution_count": 45,
   "metadata": {},
   "outputs": [
    {
     "data": {
      "text/html": [
       "<div>\n",
       "<style scoped>\n",
       "    .dataframe tbody tr th:only-of-type {\n",
       "        vertical-align: middle;\n",
       "    }\n",
       "\n",
       "    .dataframe tbody tr th {\n",
       "        vertical-align: top;\n",
       "    }\n",
       "\n",
       "    .dataframe thead th {\n",
       "        text-align: right;\n",
       "    }\n",
       "</style>\n",
       "<table border=\"1\" class=\"dataframe\">\n",
       "  <thead>\n",
       "    <tr style=\"text-align: right;\">\n",
       "      <th></th>\n",
       "      <th>hm_variant_id</th>\n",
       "      <th>hm_rsid</th>\n",
       "      <th>hm_chrom</th>\n",
       "      <th>hm_pos</th>\n",
       "      <th>hm_other_allele</th>\n",
       "      <th>hm_effect_allele</th>\n",
       "      <th>hm_beta</th>\n",
       "      <th>hm_odds_ratio</th>\n",
       "      <th>hm_ci_lower</th>\n",
       "      <th>hm_ci_upper</th>\n",
       "      <th>...</th>\n",
       "      <th>other_allele</th>\n",
       "      <th>effect_allele</th>\n",
       "      <th>beta</th>\n",
       "      <th>ci_lower</th>\n",
       "      <th>ci_upper</th>\n",
       "      <th>p_value</th>\n",
       "      <th>effect_allele_frequency</th>\n",
       "      <th>standard_error</th>\n",
       "      <th>odds_ratio</th>\n",
       "      <th>variant_id</th>\n",
       "    </tr>\n",
       "  </thead>\n",
       "  <tbody>\n",
       "    <tr>\n",
       "      <th>0</th>\n",
       "      <td>1_930158_C_T</td>\n",
       "      <td>rs1381099827</td>\n",
       "      <td>1</td>\n",
       "      <td>930158</td>\n",
       "      <td>C</td>\n",
       "      <td>T</td>\n",
       "      <td>-0.192142</td>\n",
       "      <td>NaN</td>\n",
       "      <td>-0.905992</td>\n",
       "      <td>0.521708</td>\n",
       "      <td>...</td>\n",
       "      <td>C</td>\n",
       "      <td>T</td>\n",
       "      <td>-0.192142</td>\n",
       "      <td>-0.905992</td>\n",
       "      <td>0.521708</td>\n",
       "      <td>0.597811</td>\n",
       "      <td>0.000009</td>\n",
       "      <td>0.999991</td>\n",
       "      <td>NaN</td>\n",
       "      <td>rs1381099827</td>\n",
       "    </tr>\n",
       "    <tr>\n",
       "      <th>1</th>\n",
       "      <td>1_930165_G_A</td>\n",
       "      <td>rs201186828</td>\n",
       "      <td>1</td>\n",
       "      <td>930165</td>\n",
       "      <td>G</td>\n",
       "      <td>A</td>\n",
       "      <td>-0.021754</td>\n",
       "      <td>NaN</td>\n",
       "      <td>-0.332290</td>\n",
       "      <td>0.288782</td>\n",
       "      <td>...</td>\n",
       "      <td>G</td>\n",
       "      <td>A</td>\n",
       "      <td>-0.021754</td>\n",
       "      <td>-0.332290</td>\n",
       "      <td>0.288782</td>\n",
       "      <td>0.890793</td>\n",
       "      <td>0.000045</td>\n",
       "      <td>0.999955</td>\n",
       "      <td>NaN</td>\n",
       "      <td>rs201186828</td>\n",
       "    </tr>\n",
       "    <tr>\n",
       "      <th>2</th>\n",
       "      <td>1_930204_G_A</td>\n",
       "      <td>rs148711625</td>\n",
       "      <td>1</td>\n",
       "      <td>930204</td>\n",
       "      <td>G</td>\n",
       "      <td>A</td>\n",
       "      <td>0.105264</td>\n",
       "      <td>NaN</td>\n",
       "      <td>-0.210775</td>\n",
       "      <td>0.421303</td>\n",
       "      <td>...</td>\n",
       "      <td>G</td>\n",
       "      <td>A</td>\n",
       "      <td>0.105264</td>\n",
       "      <td>-0.210775</td>\n",
       "      <td>0.421303</td>\n",
       "      <td>0.513879</td>\n",
       "      <td>0.000044</td>\n",
       "      <td>0.999956</td>\n",
       "      <td>NaN</td>\n",
       "      <td>rs148711625</td>\n",
       "    </tr>\n",
       "    <tr>\n",
       "      <th>3</th>\n",
       "      <td>1_930215_A_G</td>\n",
       "      <td>rs903331232</td>\n",
       "      <td>1</td>\n",
       "      <td>930215</td>\n",
       "      <td>A</td>\n",
       "      <td>G</td>\n",
       "      <td>0.081907</td>\n",
       "      <td>NaN</td>\n",
       "      <td>-0.422869</td>\n",
       "      <td>0.586683</td>\n",
       "      <td>...</td>\n",
       "      <td>A</td>\n",
       "      <td>G</td>\n",
       "      <td>0.081907</td>\n",
       "      <td>-0.422869</td>\n",
       "      <td>0.586683</td>\n",
       "      <td>0.750462</td>\n",
       "      <td>0.000017</td>\n",
       "      <td>0.999983</td>\n",
       "      <td>NaN</td>\n",
       "      <td>rs903331232</td>\n",
       "    </tr>\n",
       "    <tr>\n",
       "      <th>4</th>\n",
       "      <td>1_930245_G_A</td>\n",
       "      <td>rs146327803</td>\n",
       "      <td>1</td>\n",
       "      <td>930245</td>\n",
       "      <td>G</td>\n",
       "      <td>A</td>\n",
       "      <td>0.252748</td>\n",
       "      <td>NaN</td>\n",
       "      <td>-0.192428</td>\n",
       "      <td>0.697924</td>\n",
       "      <td>...</td>\n",
       "      <td>G</td>\n",
       "      <td>A</td>\n",
       "      <td>0.252748</td>\n",
       "      <td>-0.192428</td>\n",
       "      <td>0.697924</td>\n",
       "      <td>0.265808</td>\n",
       "      <td>0.000022</td>\n",
       "      <td>0.999978</td>\n",
       "      <td>NaN</td>\n",
       "      <td>rs146327803</td>\n",
       "    </tr>\n",
       "  </tbody>\n",
       "</table>\n",
       "<p>5 rows × 24 columns</p>\n",
       "</div>"
      ],
      "text/plain": [
       "  hm_variant_id       hm_rsid  hm_chrom  hm_pos hm_other_allele  \\\n",
       "0  1_930158_C_T  rs1381099827         1  930158               C   \n",
       "1  1_930165_G_A   rs201186828         1  930165               G   \n",
       "2  1_930204_G_A   rs148711625         1  930204               G   \n",
       "3  1_930215_A_G   rs903331232         1  930215               A   \n",
       "4  1_930245_G_A   rs146327803         1  930245               G   \n",
       "\n",
       "  hm_effect_allele   hm_beta  hm_odds_ratio  hm_ci_lower  hm_ci_upper  ...  \\\n",
       "0                T -0.192142            NaN    -0.905992     0.521708  ...   \n",
       "1                A -0.021754            NaN    -0.332290     0.288782  ...   \n",
       "2                A  0.105264            NaN    -0.210775     0.421303  ...   \n",
       "3                G  0.081907            NaN    -0.422869     0.586683  ...   \n",
       "4                A  0.252748            NaN    -0.192428     0.697924  ...   \n",
       "\n",
       "   other_allele  effect_allele      beta  ci_lower  ci_upper   p_value  \\\n",
       "0             C              T -0.192142 -0.905992  0.521708  0.597811   \n",
       "1             G              A -0.021754 -0.332290  0.288782  0.890793   \n",
       "2             G              A  0.105264 -0.210775  0.421303  0.513879   \n",
       "3             A              G  0.081907 -0.422869  0.586683  0.750462   \n",
       "4             G              A  0.252748 -0.192428  0.697924  0.265808   \n",
       "\n",
       "   effect_allele_frequency  standard_error  odds_ratio    variant_id  \n",
       "0                 0.000009        0.999991         NaN  rs1381099827  \n",
       "1                 0.000045        0.999955         NaN   rs201186828  \n",
       "2                 0.000044        0.999956         NaN   rs148711625  \n",
       "3                 0.000017        0.999983         NaN   rs903331232  \n",
       "4                 0.000022        0.999978         NaN   rs146327803  \n",
       "\n",
       "[5 rows x 24 columns]"
      ]
     },
     "execution_count": 45,
     "metadata": {},
     "output_type": "execute_result"
    }
   ],
   "source": [
    "df.head()"
   ]
  },
  {
   "cell_type": "code",
   "execution_count": 46,
   "metadata": {},
   "outputs": [
    {
     "data": {
      "text/html": [
       "<div>\n",
       "<style scoped>\n",
       "    .dataframe tbody tr th:only-of-type {\n",
       "        vertical-align: middle;\n",
       "    }\n",
       "\n",
       "    .dataframe tbody tr th {\n",
       "        vertical-align: top;\n",
       "    }\n",
       "\n",
       "    .dataframe thead th {\n",
       "        text-align: right;\n",
       "    }\n",
       "</style>\n",
       "<table border=\"1\" class=\"dataframe\">\n",
       "  <thead>\n",
       "    <tr style=\"text-align: right;\">\n",
       "      <th></th>\n",
       "      <th>chromosome</th>\n",
       "      <th>base_pair_location</th>\n",
       "      <th>other_allele</th>\n",
       "      <th>effect_allele</th>\n",
       "    </tr>\n",
       "  </thead>\n",
       "  <tbody>\n",
       "    <tr>\n",
       "      <th>0</th>\n",
       "      <td>1</td>\n",
       "      <td>930158</td>\n",
       "      <td>C</td>\n",
       "      <td>T</td>\n",
       "    </tr>\n",
       "    <tr>\n",
       "      <th>1</th>\n",
       "      <td>1</td>\n",
       "      <td>930165</td>\n",
       "      <td>G</td>\n",
       "      <td>A</td>\n",
       "    </tr>\n",
       "    <tr>\n",
       "      <th>2</th>\n",
       "      <td>1</td>\n",
       "      <td>930204</td>\n",
       "      <td>G</td>\n",
       "      <td>A</td>\n",
       "    </tr>\n",
       "    <tr>\n",
       "      <th>3</th>\n",
       "      <td>1</td>\n",
       "      <td>930215</td>\n",
       "      <td>A</td>\n",
       "      <td>G</td>\n",
       "    </tr>\n",
       "    <tr>\n",
       "      <th>4</th>\n",
       "      <td>1</td>\n",
       "      <td>930245</td>\n",
       "      <td>G</td>\n",
       "      <td>A</td>\n",
       "    </tr>\n",
       "  </tbody>\n",
       "</table>\n",
       "</div>"
      ],
      "text/plain": [
       "   chromosome  base_pair_location other_allele effect_allele\n",
       "0           1              930158            C             T\n",
       "1           1              930165            G             A\n",
       "2           1              930204            G             A\n",
       "3           1              930215            A             G\n",
       "4           1              930245            G             A"
      ]
     },
     "execution_count": 46,
     "metadata": {},
     "output_type": "execute_result"
    }
   ],
   "source": [
    "cols_for_annotation = ['chromosome', 'base_pair_location', 'other_allele', 'effect_allele']\n",
    "df_to_vep = df[cols_for_annotation].copy()\n",
    "df_to_vep.head()"
   ]
  },
  {
   "cell_type": "code",
   "execution_count": 47,
   "metadata": {},
   "outputs": [],
   "source": [
    "df_to_vep['start'] = df_to_vep['base_pair_location']\n",
    "df_to_vep['end'] = df_to_vep['base_pair_location']\n",
    "del df_to_vep['base_pair_location']"
   ]
  },
  {
   "cell_type": "code",
   "execution_count": 48,
   "metadata": {},
   "outputs": [],
   "source": [
    "def concat_alleles(row):\n",
    "    return row['effect_allele'] + '/' + row['other_allele']"
   ]
  },
  {
   "cell_type": "code",
   "execution_count": 49,
   "metadata": {},
   "outputs": [],
   "source": [
    "df_to_vep['allele'] = df_to_vep.apply(concat_alleles, axis='columns')"
   ]
  },
  {
   "cell_type": "code",
   "execution_count": 50,
   "metadata": {},
   "outputs": [],
   "source": [
    "del df_to_vep['effect_allele']\n",
    "del df_to_vep['other_allele']"
   ]
  },
  {
   "cell_type": "code",
   "execution_count": 51,
   "metadata": {},
   "outputs": [
    {
     "data": {
      "text/html": [
       "<div>\n",
       "<style scoped>\n",
       "    .dataframe tbody tr th:only-of-type {\n",
       "        vertical-align: middle;\n",
       "    }\n",
       "\n",
       "    .dataframe tbody tr th {\n",
       "        vertical-align: top;\n",
       "    }\n",
       "\n",
       "    .dataframe thead th {\n",
       "        text-align: right;\n",
       "    }\n",
       "</style>\n",
       "<table border=\"1\" class=\"dataframe\">\n",
       "  <thead>\n",
       "    <tr style=\"text-align: right;\">\n",
       "      <th></th>\n",
       "      <th>chromosome</th>\n",
       "      <th>start</th>\n",
       "      <th>end</th>\n",
       "      <th>allele</th>\n",
       "    </tr>\n",
       "  </thead>\n",
       "  <tbody>\n",
       "    <tr>\n",
       "      <th>0</th>\n",
       "      <td>1</td>\n",
       "      <td>930158</td>\n",
       "      <td>930158</td>\n",
       "      <td>T/C</td>\n",
       "    </tr>\n",
       "    <tr>\n",
       "      <th>1</th>\n",
       "      <td>1</td>\n",
       "      <td>930165</td>\n",
       "      <td>930165</td>\n",
       "      <td>A/G</td>\n",
       "    </tr>\n",
       "    <tr>\n",
       "      <th>2</th>\n",
       "      <td>1</td>\n",
       "      <td>930204</td>\n",
       "      <td>930204</td>\n",
       "      <td>A/G</td>\n",
       "    </tr>\n",
       "    <tr>\n",
       "      <th>3</th>\n",
       "      <td>1</td>\n",
       "      <td>930215</td>\n",
       "      <td>930215</td>\n",
       "      <td>G/A</td>\n",
       "    </tr>\n",
       "    <tr>\n",
       "      <th>4</th>\n",
       "      <td>1</td>\n",
       "      <td>930245</td>\n",
       "      <td>930245</td>\n",
       "      <td>A/G</td>\n",
       "    </tr>\n",
       "  </tbody>\n",
       "</table>\n",
       "</div>"
      ],
      "text/plain": [
       "   chromosome   start     end allele\n",
       "0           1  930158  930158    T/C\n",
       "1           1  930165  930165    A/G\n",
       "2           1  930204  930204    A/G\n",
       "3           1  930215  930215    G/A\n",
       "4           1  930245  930245    A/G"
      ]
     },
     "execution_count": 51,
     "metadata": {},
     "output_type": "execute_result"
    }
   ],
   "source": [
    "df_to_vep.head()"
   ]
  }
 ],
 "metadata": {
  "kernelspec": {
   "display_name": "Python 3 (ipykernel)",
   "language": "python",
   "name": "python3"
  },
  "language_info": {
   "name": "python",
   "version": "3.10.5"
  },
  "orig_nbformat": 4,
  "vscode": {
   "interpreter": {
    "hash": "e7370f93d1d0cde622a1f8e1c04877d8463912d04d973331ad4851f04de6915a"
   }
  }
 },
 "nbformat": 4,
 "nbformat_minor": 2
}
